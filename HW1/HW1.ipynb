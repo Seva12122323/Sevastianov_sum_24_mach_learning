{
 "cells": [
  {
   "cell_type": "markdown",
   "metadata": {
    "id": "E-vqHHuE_U5W"
   },
   "source": [
    "# HW 1. Логистическая регрессия"
   ]
  },
  {
   "cell_type": "code",
   "execution_count": 3,
   "metadata": {
    "id": "3PhLKG01mF7y"
   },
   "outputs": [],
   "source": [
    "#from google.colab import drive\n",
    "import numpy as np\n",
    "import cv2\n",
    "from sklearn.model_selection import train_test_split\n",
    "from sklearn.metrics import accuracy_score\n",
    "import os\n",
    "import matplotlib.pyplot as plt"
   ]
  },
  {
   "cell_type": "markdown",
   "metadata": {
    "id": "A6BdW91v_cNa"
   },
   "source": [
    "## Загрузка данных\n",
    "\n",
    "Для того чтобы загрузить данные в нейросеть или более простые алгоритмы ML, их необходимо должным образом открыть и преобразовать в вектор с числами. Для этого воспользуемся функцией ```read_files()```.\n",
    "\n",
    "Этот парсер делает следующие вещи:\n",
    " - открывает файл картинки с диска (с помощью библиотеки opencv),\n",
    " - проверяет, что картинка действительно открылась и сейчас является матрицей (```np.array```),\n",
    " - преобразует матрицу в вектор (путем записи всех столбцов друг под другом),\n",
    " - возвращает массив из векторов, в которых хранятся картинки, и лейбл, соответствующий каждой картинке."
   ]
  },
  {
   "cell_type": "code",
   "execution_count": 4,
   "metadata": {
    "id": "ZhJZszn4FAhG"
   },
   "outputs": [],
   "source": [
    "def read_files(path: str, ans: int, target_dim: tuple = (256, 256)):\n",
    "    files = os.listdir(path)\n",
    "    X = None\n",
    "    for i, name in enumerate(files):\n",
    "        if name !=\".DS_Store\":\n",
    "            img = cv2.imread(path + '/' + name, 0) # 0 means black-white picture\n",
    "            print(path + '/' + name)\n",
    "            if img.shape != 0:\n",
    "                img = cv2.resize(img, (256, 256))\n",
    "                vect = img.reshape(1, 256 ** 2) / 255.\n",
    "        \n",
    "                X = vect if (X is None) else np.vstack((X, vect))\n",
    "            print(f\"{i}/{len(files)}\")\n",
    "    print()\n",
    "    y = np.ones((len(X),1)) * ans\n",
    "    return X, y"
   ]
  },
  {
   "cell_type": "markdown",
   "metadata": {
    "id": "n0Crs3tfd9OV"
   },
   "source": [
    "Логика программы следующая:\n",
    " - есть класс ```LogisticRegression```. Он содержит веса модели и нужен для того, чтобы генерировать предсказания. Также, этот класс снабжен методом backward() для возможности дифференцирования функции потерь по весам этого класса.\n",
    " - есть класс ```Loss```. Он определяет функцию потерь, которую мы хотим использовать. Также, этот класс осуществляет подсчет градиентов функции потерь по всем весам модели.\n",
    " - есть класс ```Optimizer```. Он отвечает за то, как будут обновляться веса после подсчета градиентов (после работы класса ```Loss```). Сегодня мы рассматриваем простой градиентный спуск, но более сложные модели используют более усовершенствованные алгоритмы оптимизации.\n",
    "\n",
    "То есть:\n",
    " 1. Вызывается метод ```forward()``` нашей модели (логистической регрессии). После этого у нас выводятся текущие предсказания модели.\n",
    " 2. Вызывается метод ```loss()```, который сравнивает предсказания модели с истинными ответами. После этого подсчитываются градиенты функции потерь по всем весам модели.\n",
    " 3. Подсчитанные градиенты вычитаются из весов (происходит шаг градиентного спуска) путем вызова ```optimizer.step()```"
   ]
  },
  {
   "cell_type": "markdown",
   "metadata": {
    "id": "kH9cVot29-iu"
   },
   "source": [
    "# Задание\n",
    "\n",
    "1. Загрузить датасет, разбить его на два датасета: первый для обучения, второй - для проверки качества (см. функцию [`train_test_split`](https://scikit-learn.org/stable/modules/generated/sklearn.model_selection.train_test_split.html))\n",
    "2. Посчитать производные функции потерь по w и по b\n",
    "3. Реализовать цикл обучения, обновляя параметры логистической регрессии:\n",
    "$$w = w - \\alpha \\cdot \\frac{\\partial L}{\\partial w}$$\n",
    "<br>\n",
    "$$b = b - \\alpha \\cdot \\frac{\\partial L}{\\partial b}$$\n",
    "Обратите внимание на величину $\\alpha$. Ее надо подобрать, иначе алгоритм не будет обучаться.\n",
    "4. Посчитать финальное качество модели по метрике [accuracy](https://scikit-learn.org/stable/modules/generated/sklearn.metrics.accuracy_score.html)\n",
    "\n"
   ]
  },
  {
   "cell_type": "markdown",
   "metadata": {},
   "source": [
    "# Выполнение\n",
    "\n",
    "Формулки:"
   ]
  },
  {
   "cell_type": "markdown",
   "metadata": {},
   "source": [
    "$$ J = -y^i\\cdot \\log(a^i)-(1-y^i)\\cdot \\log(1-a^i)$$\n",
    "$$ J = y^i\\cdot \\log(1+e^{-w^Tx-b})-(1-y^i)\\cdot \\log(e^{-w^Tx-b})+(1-y^i)\\cdot \\log(1+e^{-w^Tx-b})$$\n",
    "$$ J = \\log(1+e^{-w^Tx-b})-(1-y^i)\\cdot(-w^Tx-b)$$\n",
    "$$ \\frac{\\partial J}{\\partial w} = x\\cdot(a-y)$$\n",
    "$$ \\frac{\\partial J}{\\partial b} = (a-y)$$"
   ]
  },
  {
   "cell_type": "markdown",
   "metadata": {},
   "source": [
    "Необходимые функции"
   ]
  },
  {
   "cell_type": "code",
   "execution_count": 17,
   "metadata": {},
   "outputs": [],
   "source": [
    "def sigmoid(x):\n",
    "    return 1/ (np.exp(-x) + 1)"
   ]
  },
  {
   "cell_type": "code",
   "execution_count": 6,
   "metadata": {},
   "outputs": [],
   "source": [
    "def DerivativeB(a,Y):\n",
    "    return (a-Y)"
   ]
  },
  {
   "cell_type": "code",
   "execution_count": 7,
   "metadata": {},
   "outputs": [],
   "source": [
    "def DerivativeW(X,a,Y):\n",
    "    return X*(a-Y)"
   ]
  },
  {
   "cell_type": "code",
   "execution_count": 8,
   "metadata": {},
   "outputs": [],
   "source": [
    "    def accuracy(coef,coef0,X,Y):\n",
    "        i=0\n",
    "        for h in range(X_test.shape[0]):\n",
    "            if (round(sigmoid(((coef @ X[h])+coef0)),0)==round(Y[h][0],0)):\n",
    "                i+=1\n",
    "        return round(100*i/X_test.shape[0],0)\n",
    "        "
   ]
  },
  {
   "cell_type": "markdown",
   "metadata": {},
   "source": [
    "Используемые объекты:"
   ]
  },
  {
   "cell_type": "code",
   "execution_count": 9,
   "metadata": {
    "id": "sAgudbjuBzjo"
   },
   "outputs": [],
   "source": [
    "class LogisticRegression:\n",
    "    def __init__(self, n_feature):\n",
    "        self.coef=np.zeros(65536)\n",
    "        self.coef0=1\n",
    "        pass\n",
    "\n",
    "\n",
    "    def forward(self, X: np.array):\n",
    "        res=[]\n",
    "        for i in range(X.shape[0]):\n",
    "            pred=sigmoid((X[i] @ self.coef)+self.coef0)\n",
    "            res.append(pred)\n",
    "        return res\n",
    "        pass\n",
    "        \n",
    "    def backward(self, X,a,Y):\n",
    "        resW=0\n",
    "        resB=0\n",
    "        for i in range(X.shape[0]):\n",
    "            resW+=DerivativeW(X[i],a[i],Y[i])\n",
    "            resB+=DerivativeB(a[i],Y[i][0])\n",
    "        return  resW,resB\n",
    "        pass\n"
   ]
  },
  {
   "cell_type": "code",
   "execution_count": 10,
   "metadata": {},
   "outputs": [],
   "source": [
    "class Loss:\n",
    "    def __init__(self):\n",
    "        pass\n",
    "    def loss(self,y_train,a):\n",
    "        res=0\n",
    "        for i in range(y_train.shape[0]):\n",
    "            res+=y_train[i][0]*np.log(a[i]+0.0001)+(1-y_train[i][0])*np.log(1.0001-a[i])\n",
    "        return -res/y_train.shape[0]\n",
    "        pass"
   ]
  },
  {
   "cell_type": "code",
   "execution_count": 11,
   "metadata": {},
   "outputs": [],
   "source": [
    "class Optimizer:\n",
    "    def __init__(self):\n",
    "        self.a=0.0001\n",
    "    def step(self, model,dJ_dw,dJ_db):\n",
    "        coef=model.coef-0.0001*dJ_dw\n",
    "        coef0=model.coef0+0.0001*dJ_db\n",
    "        return coef,coef0     "
   ]
  },
  {
   "cell_type": "markdown",
   "metadata": {},
   "source": [
    "# Подготовка Данных:"
   ]
  },
  {
   "cell_type": "code",
   "execution_count": 12,
   "metadata": {
    "scrolled": true
   },
   "outputs": [
    {
     "name": "stdout",
     "output_type": "stream",
     "text": [
      "box/logloss_1logloss_1_8.png\n",
      "0/40\n",
      "box/logloss_1logloss_1_20.png\n",
      "1/40\n",
      "box/logloss_1logloss_1_36.png\n",
      "2/40\n",
      "box/logloss_1logloss_1_5.png\n",
      "3/40\n",
      "box/logloss_1logloss_1_17.png\n",
      "4/40\n",
      "box/logloss_1logloss_1_28.png\n",
      "5/40\n",
      "box/logloss_1logloss_1_10.png\n",
      "6/40\n",
      "box/logloss_1logloss_1_38.png\n",
      "7/40\n",
      "box/logloss_1logloss_1_7.png\n",
      "8/40\n",
      "box/logloss_1logloss_1_32.png\n",
      "9/40\n",
      "box/logloss_1logloss_1_25.png\n",
      "10/40\n",
      "box/logloss_1logloss_1_37.png\n",
      "11/40\n",
      "box/logloss_1logloss_1_3.png\n",
      "12/40\n",
      "box/logloss_1logloss_1_12.png\n",
      "13/40\n",
      "box/logloss_1logloss_1_21.png\n",
      "14/40\n",
      "box/logloss_1logloss_1_0.png\n",
      "15/40\n",
      "box/logloss_1logloss_1_1.png\n",
      "16/40\n",
      "box/logloss_1logloss_1_33.png\n",
      "17/40\n",
      "box/logloss_1logloss_1_9.png\n",
      "18/40\n",
      "box/logloss_1logloss_1_18.png\n",
      "19/40\n",
      "box/logloss_1logloss_1_31.png\n",
      "20/40\n",
      "box/logloss_1logloss_1_29.png\n",
      "21/40\n",
      "box/logloss_1logloss_1_16.png\n",
      "22/40\n",
      "box/logloss_1logloss_1_19.png\n",
      "23/40\n",
      "box/logloss_1logloss_1_27.png\n",
      "24/40\n",
      "box/logloss_1logloss_1_6.png\n",
      "26/40\n",
      "box/logloss_1logloss_1_30.png\n",
      "27/40\n",
      "box/logloss_1logloss_1_35.png\n",
      "28/40\n",
      "box/logloss_1logloss_1_26.png\n",
      "29/40\n",
      "box/logloss_1logloss_1_15.png\n",
      "30/40\n",
      "box/logloss_1logloss_1_24.png\n",
      "31/40\n",
      "box/logloss_1logloss_1_2.png\n",
      "32/40\n",
      "box/logloss_1logloss_1_34.png\n",
      "33/40\n",
      "box/logloss_1logloss_1_23.png\n",
      "34/40\n",
      "box/logloss_1logloss_1_13.png\n",
      "35/40\n",
      "box/logloss_1logloss_1_14.png\n",
      "36/40\n",
      "box/logloss_1logloss_1_22.png\n",
      "37/40\n",
      "box/logloss_1logloss_1_4.png\n",
      "38/40\n",
      "box/logloss_1logloss_1_11.png\n",
      "39/40\n",
      "\n",
      "no_box/logloss_0_1.png\n",
      "0/6\n",
      "no_box/logloss_0_2.png\n",
      "1/6\n",
      "no_box/logloss_0_0.png\n",
      "2/6\n",
      "no_box/logloss_0_17.png\n",
      "3/6\n",
      "no_box/logloss_0_10.png\n",
      "4/6\n",
      "no_box/logloss_0_11.png\n",
      "5/6\n",
      "\n"
     ]
    }
   ],
   "source": [
    "#Собираю Данные из 2х источников\n",
    "X_ex,y_ex=read_files(\"box\", ans=1)\n",
    "X_no_ex,y_no_ex=read_files(\"no_box\", ans=0)\n",
    "#Объединяю Данные из 2х источников\n",
    "X = np.vstack((X_ex, X_no_ex))\n",
    "y = np.vstack((y_ex, y_no_ex))\n",
    "#Разделяю данные на 2 набора случайным образом\n",
    "X_train, X_test, y_train, y_test = train_test_split(X, y, test_size=0.33, random_state=42)"
   ]
  },
  {
   "cell_type": "markdown",
   "metadata": {},
   "source": [
    "# Работа Модели"
   ]
  },
  {
   "cell_type": "code",
   "execution_count": 15,
   "metadata": {},
   "outputs": [
    {
     "name": "stdout",
     "output_type": "stream",
     "text": [
      "please wait...\n",
      "finished\n",
      "_________________________\n"
     ]
    }
   ],
   "source": [
    "#Инициализирую объекты и необходимые переменные\n",
    "model = LogisticRegression(0)\n",
    "ls=Loss()\n",
    "opt=Optimizer()\n",
    "loss_train=[]\n",
    "loss_test=[]\n",
    "J_train=1\n",
    "print(\"please wait...\")\n",
    "#Цикл обучающий модель \n",
    "while J_train>0.05:\n",
    "    #1й шаг задания\n",
    "    a_train=model.forward(X_train)\n",
    "    a_test=model.forward(X_test)\n",
    "\n",
    "    #2й шаг задания\n",
    "    J_train=ls.loss(y_train,a_train)\n",
    "    J_test=ls.loss(y_test,a_test)\n",
    "    loss_train.append(J_train)\n",
    "    loss_test.append(J_test)\n",
    "    \n",
    "    #3й шаг задания\n",
    "    dJ_dw,dJ_db=model.backward(X_train,a_train,y_train)\n",
    "    model.coef,model.coef0=opt.step(model,dJ_dw,dJ_db)\n",
    "print(\"finished\")\n",
    "print(\"_________________________\")"
   ]
  },
  {
   "cell_type": "markdown",
   "metadata": {},
   "source": [
    "# Вывод Результата"
   ]
  },
  {
   "cell_type": "code",
   "execution_count": 14,
   "metadata": {},
   "outputs": [
    {
     "data": {
      "image/png": "[encoded data removed]",
      "text/plain": [
       "<Figure size 640x480 with 1 Axes>"
      ]
     },
     "metadata": {},
     "output_type": "display_data"
    },
    {
     "name": "stdout",
     "output_type": "stream",
     "text": [
      "accuracy=100.0%\n"
     ]
    }
   ],
   "source": [
    "plt.xlabel(\"epoch\")\n",
    "plt.ylabel(\"loss\")\n",
    "plt.plot(loss_train,label='train')\n",
    "plt.plot(loss_test,label='test')\n",
    "plt.legend(loc=\"upper right\")\n",
    "plt.show()\n",
    "print(\"accuracy=\"+str(accuracy(model.coef,model.coef0,X_test,y_test))+\"%\")"
   ]
  }
 ],
 "metadata": {
  "colab": {
   "provenance": []
  },
  "kernelspec": {
   "display_name": "Python 3 (ipykernel)",
   "language": "python",
   "name": "python3"
  },
  "language_info": {
   "codemirror_mode": {
    "name": "ipython",
    "version": 3
   },
   "file_extension": ".py",
   "mimetype": "text/x-python",
   "name": "python",
   "nbconvert_exporter": "python",
   "pygments_lexer": "ipython3",
   "version": "3.10.12"
  }
 },
 "nbformat": 4,
 "nbformat_minor": 4
}
